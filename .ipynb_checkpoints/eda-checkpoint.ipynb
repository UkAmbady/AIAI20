{
 "cells": [
  {
   "cell_type": "markdown",
   "id": "847c5dc9-db33-4e61-ab3f-38a3c8ca104f",
   "metadata": {},
   "source": [
    "# Crash Course on Fast EDA using Chat GPT\n",
    "## this documents step by step explanation on prompt engeneering with GPT \n",
    "### by AMBADY"
   ]
  },
  {
   "cell_type": "code",
   "execution_count": 128,
   "id": "e6664bc0-1fea-470b-a6a1-f0ebeeb086a1",
   "metadata": {},
   "outputs": [],
   "source": [
    "# Keeps stapce for explantions\n"
   ]
  },
  {
   "cell_type": "code",
   "execution_count": 129,
   "id": "3c71a8b7-7d80-4122-b4e9-ed5ced12c5c1",
   "metadata": {},
   "outputs": [],
   "source": [
    "#Kepp Space for Imports\n",
    "import pandas as pd\n",
    "import sqlite3, urllib.request, tempfile\n",
    "import numpy as np\n",
    "import matplotlib.pyplot as plt"
   ]
  },
  {
   "cell_type": "code",
   "execution_count": 130,
   "id": "fa1aee34-493b-4833-b415-60dd6c3cfe68",
   "metadata": {},
   "outputs": [],
   "source": [
    "# Get youe data source\n",
    "url = \"https://techassessment.blob.core.windows.net/aiap20-group-exercise-data/call_duration_modified.db\""
   ]
  },
  {
   "cell_type": "code",
   "execution_count": 131,
   "id": "9e2e4945-98af-40cc-a48c-aec29509a946",
   "metadata": {},
   "outputs": [
    {
     "name": "stdout",
     "output_type": "stream",
     "text": [
      "Tables found: ['call_duration_modified']\n",
      "\n",
      "=== call_duration_modified : Columns & Types ===\n",
      "                          name     type\n",
      "0                           SN  INTEGER\n",
      "1                          Age  INTEGER\n",
      "2                   Occupation     TEXT\n",
      "3        Previous Contact Days  INTEGER\n",
      "4  Previous Number of Contacts  INTEGER\n",
      "5             Previous Outcome     TEXT\n",
      "6               Campaign Calls  INTEGER\n",
      "7       Campaign Call Duration  INTEGER\n",
      "8          Subscription Status     TEXT\n",
      "\n",
      "=== call_duration_modified : describe().T ===\n",
      "                               count unique          top   freq        mean  \\\n",
      "SN                           41188.0    NaN          NaN    NaN     20594.5   \n",
      "Age                          41188.0    NaN          NaN    NaN    40.02406   \n",
      "Occupation                     41188     12       admin.  10422         NaN   \n",
      "Previous Contact Days        41188.0    NaN          NaN    NaN  962.475454   \n",
      "Previous Number of Contacts  41188.0    NaN          NaN    NaN    0.172963   \n",
      "Previous Outcome               41188      3  nonexistent  35563         NaN   \n",
      "Campaign Calls               41188.0    NaN          NaN    NaN    2.567593   \n",
      "Campaign Call Duration       41188.0    NaN          NaN    NaN   258.28501   \n",
      "Subscription Status            41188      2           no  36548         NaN   \n",
      "\n",
      "                                     std   min       25%      50%       75%  \\\n",
      "SN                           11890.09578   1.0  10297.75  20594.5  30891.25   \n",
      "Age                             10.42125  17.0      32.0     38.0      47.0   \n",
      "Occupation                           NaN   NaN       NaN      NaN       NaN   \n",
      "Previous Contact Days         186.910907   0.0     999.0    999.0     999.0   \n",
      "Previous Number of Contacts     0.494901   0.0       0.0      0.0       0.0   \n",
      "Previous Outcome                     NaN   NaN       NaN      NaN       NaN   \n",
      "Campaign Calls                  2.770014   1.0       1.0      2.0       3.0   \n",
      "Campaign Call Duration        259.279249   0.0     102.0    180.0     319.0   \n",
      "Subscription Status                  NaN   NaN       NaN      NaN       NaN   \n",
      "\n",
      "                                 max  \n",
      "SN                           41188.0  \n",
      "Age                             98.0  \n",
      "Occupation                       NaN  \n",
      "Previous Contact Days          999.0  \n",
      "Previous Number of Contacts      7.0  \n",
      "Previous Outcome                 NaN  \n",
      "Campaign Calls                  56.0  \n",
      "Campaign Call Duration        4918.0  \n",
      "Subscription Status              NaN  \n"
     ]
    }
   ],
   "source": [
    "# download to a temp file\n",
    "import sqlite3\n",
    "import pandas as pd\n",
    "from pathlib import Path\n",
    "\n",
    "DB_PATH = Path(\"./data/call_duration_modified.db\")\n",
    "\n",
    "# --- 1) List table names -----------------------------------------------------\n",
    "with sqlite3.connect(DB_PATH) as conn:\n",
    "    tables = pd.read_sql(\n",
    "        \"SELECT name FROM sqlite_master WHERE type='table' AND name NOT LIKE 'sqlite_%' \"\n",
    "        \"ORDER BY name;\",\n",
    "        conn,\n",
    "    )[\"name\"].tolist()\n",
    "\n",
    "print(\"Tables found:\", tables)\n",
    "\n",
    "# --- 2) Open each table and load into a pandas DataFrame ----------------------\n",
    "dfs = {}\n",
    "with sqlite3.connect(DB_PATH) as conn:\n",
    "    for t in tables:\n",
    "        dfs[t] = pd.read_sql(f'SELECT * FROM \"{t}\";', conn)\n",
    "\n",
    "# Example: access one table\n",
    "# df = dfs[\"<your_table_name>\"]\n",
    "\n",
    "# --- 3) List column names and types for each table ---------------------------\n",
    "schemas = {}\n",
    "with sqlite3.connect(DB_PATH) as conn:\n",
    "    for t in tables:\n",
    "        schema_df = pd.read_sql(f'PRAGMA table_info(\"{t}\");', conn)\n",
    "        # schema_df has columns: cid, name, type, notnull, dflt_value, pk\n",
    "        schemas[t] = schema_df[[\"name\", \"type\"]]\n",
    "\n",
    "        print(f\"\\n=== {t} : Columns & Types ===\")\n",
    "        print(schemas[t])\n",
    "\n",
    "# --- 4) Show statistics (transpose) ------------------------------------------\n",
    "for t, df in dfs.items():\n",
    "    print(f\"\\n=== {t} : describe().T ===\")\n",
    "    # include='all' to get stats for non-numeric columns too\n",
    "    stats = df.describe(include=\"all\").transpose()\n",
    "    print(stats)\n"
   ]
  },
  {
   "cell_type": "code",
   "execution_count": 132,
   "id": "e57f8dce-edcc-49b3-937c-4e3002fc0bd2",
   "metadata": {},
   "outputs": [],
   "source": [
    "categorical_cols = [\"Occupation\", \"Previous Outcome\", \"Subscription Status\"]\n",
    "regression_cols  = [\"Age\",\n",
    "                    \"Previous Contact Days\",\n",
    "                    \"Previous Number of Contacts\",\n",
    "                    \"Campaign Calls\",\n",
    "                    \"Campaign Call Duration\"]"
   ]
  },
  {
   "cell_type": "code",
   "execution_count": 133,
   "id": "ea4aa3d6-78ff-437d-9089-c8fb0841c584",
   "metadata": {},
   "outputs": [
    {
     "name": "stdout",
     "output_type": "stream",
     "text": [
      "Categorical: ['Occupation', 'Previous Outcome', 'Subscription Status']\n",
      "Regression : ['Age', 'Previous Contact Days', 'Previous Number of Contacts', 'Campaign Calls', 'Campaign Call Duration']\n",
      "ID-like    : ['SN']\n"
     ]
    }
   ],
   "source": [
    "categorical_cols = [\"Occupation\", \"Previous Outcome\", \"Subscription Status\"]\n",
    "regression_cols  = [\n",
    "    \"Age\",\n",
    "    \"Previous Contact Days\",\n",
    "    \"Previous Number of Contacts\",\n",
    "    \"Campaign Calls\",\n",
    "    \"Campaign Call Duration\",\n",
    "]\n",
    "id_cols = [\"SN\"]\n",
    "\n",
    "print(\"Categorical:\", categorical_cols)\n",
    "print(\"Regression :\", regression_cols)\n",
    "print(\"ID-like    :\", id_cols)"
   ]
  },
  {
   "cell_type": "code",
   "execution_count": 134,
   "id": "572a1ae0-4b07-44f6-93aa-3dac4501e725",
   "metadata": {},
   "outputs": [],
   "source": [
    "df = df.drop(columns=[\"SN\"], errors=\"ignore\")"
   ]
  },
  {
   "cell_type": "code",
   "execution_count": 135,
   "id": "5305bd1d-febb-4a95-a40f-025fccab1edc",
   "metadata": {},
   "outputs": [
    {
     "data": {
      "text/html": [
       "<div>\n",
       "<style scoped>\n",
       "    .dataframe tbody tr th:only-of-type {\n",
       "        vertical-align: middle;\n",
       "    }\n",
       "\n",
       "    .dataframe tbody tr th {\n",
       "        vertical-align: top;\n",
       "    }\n",
       "\n",
       "    .dataframe thead th {\n",
       "        text-align: right;\n",
       "    }\n",
       "</style>\n",
       "<table border=\"1\" class=\"dataframe\">\n",
       "  <thead>\n",
       "    <tr style=\"text-align: right;\">\n",
       "      <th></th>\n",
       "      <th>Age</th>\n",
       "      <th>Occupation</th>\n",
       "      <th>Previous Contact Days</th>\n",
       "      <th>Previous Number of Contacts</th>\n",
       "      <th>Previous Outcome</th>\n",
       "      <th>Campaign Calls</th>\n",
       "      <th>Campaign Call Duration</th>\n",
       "      <th>Subscription Status</th>\n",
       "    </tr>\n",
       "  </thead>\n",
       "  <tbody>\n",
       "    <tr>\n",
       "      <th>0</th>\n",
       "      <td>56</td>\n",
       "      <td>housemaid</td>\n",
       "      <td>999</td>\n",
       "      <td>0</td>\n",
       "      <td>nonexistent</td>\n",
       "      <td>1</td>\n",
       "      <td>261</td>\n",
       "      <td>no</td>\n",
       "    </tr>\n",
       "    <tr>\n",
       "      <th>1</th>\n",
       "      <td>57</td>\n",
       "      <td>services</td>\n",
       "      <td>999</td>\n",
       "      <td>0</td>\n",
       "      <td>nonexistent</td>\n",
       "      <td>1</td>\n",
       "      <td>149</td>\n",
       "      <td>no</td>\n",
       "    </tr>\n",
       "    <tr>\n",
       "      <th>2</th>\n",
       "      <td>37</td>\n",
       "      <td>services</td>\n",
       "      <td>999</td>\n",
       "      <td>0</td>\n",
       "      <td>nonexistent</td>\n",
       "      <td>1</td>\n",
       "      <td>226</td>\n",
       "      <td>no</td>\n",
       "    </tr>\n",
       "    <tr>\n",
       "      <th>3</th>\n",
       "      <td>40</td>\n",
       "      <td>admin.</td>\n",
       "      <td>999</td>\n",
       "      <td>0</td>\n",
       "      <td>nonexistent</td>\n",
       "      <td>1</td>\n",
       "      <td>151</td>\n",
       "      <td>no</td>\n",
       "    </tr>\n",
       "    <tr>\n",
       "      <th>4</th>\n",
       "      <td>56</td>\n",
       "      <td>services</td>\n",
       "      <td>999</td>\n",
       "      <td>0</td>\n",
       "      <td>nonexistent</td>\n",
       "      <td>1</td>\n",
       "      <td>307</td>\n",
       "      <td>no</td>\n",
       "    </tr>\n",
       "  </tbody>\n",
       "</table>\n",
       "</div>"
      ],
      "text/plain": [
       "   Age Occupation  Previous Contact Days  Previous Number of Contacts  \\\n",
       "0   56  housemaid                    999                            0   \n",
       "1   57   services                    999                            0   \n",
       "2   37   services                    999                            0   \n",
       "3   40     admin.                    999                            0   \n",
       "4   56   services                    999                            0   \n",
       "\n",
       "  Previous Outcome  Campaign Calls  Campaign Call Duration Subscription Status  \n",
       "0      nonexistent               1                     261                  no  \n",
       "1      nonexistent               1                     149                  no  \n",
       "2      nonexistent               1                     226                  no  \n",
       "3      nonexistent               1                     151                  no  \n",
       "4      nonexistent               1                     307                  no  "
      ]
     },
     "execution_count": 135,
     "metadata": {},
     "output_type": "execute_result"
    }
   ],
   "source": [
    "df.head()"
   ]
  },
  {
   "cell_type": "code",
   "execution_count": 136,
   "id": "c38097c3-6e10-4517-8829-4f531590bf3e",
   "metadata": {},
   "outputs": [
    {
     "name": "stdout",
     "output_type": "stream",
     "text": [
      "\n",
      "=== Occupation ===\n",
      "Occupation\n",
      "admin.           10422\n",
      "blue-collar       9254\n",
      "technician        6743\n",
      "services          3969\n",
      "management        2924\n",
      "retired           1720\n",
      "entrepreneur      1456\n",
      "self-employed     1421\n",
      "housemaid         1060\n",
      "unemployed        1014\n",
      "student            875\n",
      "unknown            330\n",
      "Name: count, dtype: int64\n",
      "\n",
      "=== Previous Outcome ===\n",
      "Previous Outcome\n",
      "nonexistent    35563\n",
      "failure         4252\n",
      "success         1373\n",
      "Name: count, dtype: int64\n",
      "\n",
      "=== Subscription Status ===\n",
      "Subscription Status\n",
      "no     36548\n",
      "yes     4640\n",
      "Name: count, dtype: int64\n",
      "       column        value\n",
      "0  Occupation    housemaid\n",
      "1  Occupation     services\n",
      "2  Occupation       admin.\n",
      "3  Occupation  blue-collar\n",
      "4  Occupation   technician\n"
     ]
    }
   ],
   "source": [
    "categorical_cols = [\"Occupation\", \"Previous Outcome\", \"Subscription Status\"]\n",
    "\n",
    "# 1) Dict of uniques (works fine)\n",
    "unique_vals = {c: df[c].dropna().unique().tolist() for c in categorical_cols}\n",
    "\n",
    "# 2) Value counts per column\n",
    "for c in categorical_cols:\n",
    "    print(f\"\\n=== {c} ===\")\n",
    "    print(df[c].value_counts(dropna=False))\n",
    "\n",
    "# 3) Long-form DataFrame of uniques  ✅ FIXED\n",
    "rows = []\n",
    "for c in categorical_cols:\n",
    "    for v in df[c].dropna().unique():\n",
    "        rows.append((c, v))\n",
    "uniques_long = pd.DataFrame(rows, columns=[\"column\", \"value\"])\n",
    "print(uniques_long.head())\n"
   ]
  },
  {
   "cell_type": "code",
   "execution_count": 137,
   "id": "0331fc81-4225-4439-81bc-d5b9aea92701",
   "metadata": {},
   "outputs": [
    {
     "name": "stdout",
     "output_type": "stream",
     "text": [
      "\n",
      "=== Age (78 unique) ===\n",
      "\n",
      "=== Occupation (12 unique) ===\n",
      "\n",
      "=== Previous Contact Days (27 unique) ===\n",
      "\n",
      "=== Previous Number of Contacts (8 unique) ===\n",
      "\n",
      "=== Previous Outcome (3 unique) ===\n",
      "\n",
      "=== Campaign Calls (42 unique) ===\n",
      "\n",
      "=== Campaign Call Duration (1544 unique) ===\n",
      "\n",
      "=== Subscription Status (2 unique) ===\n"
     ]
    }
   ],
   "source": [
    "# Cell 1: Unique values per column\n",
    "import pandas as pd\n",
    "\n",
    "# assuming df already exists\n",
    "unique_vals = {col: df[col].dropna().unique().tolist() for col in df.columns}\n",
    "\n",
    "# Pretty print\n",
    "for col, vals in unique_vals.items():\n",
    "    print(f\"\\n=== {col} ({len(vals)} unique) ===\")\n",
    "    "
   ]
  },
  {
   "cell_type": "code",
   "execution_count": 138,
   "id": "1ac3a05d-aac5-4384-a5d4-6ecec7f628bd",
   "metadata": {},
   "outputs": [
    {
     "data": {
      "image/png": "[encoded data removed]",
      "text/plain": [
       "<Figure size 1200x600 with 5 Axes>"
      ]
     },
     "metadata": {},
     "output_type": "display_data"
    }
   ],
   "source": [
    "# Cell 2\n",
    "import math\n",
    "import matplotlib.pyplot as plt\n",
    "\n",
    "num_cols = df.select_dtypes(include=\"number\").columns.tolist()\n",
    "\n",
    "if not num_cols:\n",
    "    print(\"No numeric columns to plot.\")\n",
    "else:\n",
    "    n = len(num_cols)\n",
    "    n_cols = 3                           # how many subplots across\n",
    "    n_rows = math.ceil(n / n_cols)\n",
    "\n",
    "    fig, axes = plt.subplots(n_rows, n_cols, figsize=(n_cols * 4, n_rows * 3))\n",
    "    axes = axes.ravel()\n",
    "\n",
    "    for i, col in enumerate(num_cols):\n",
    "        axes[i].hist(df[col].dropna(), bins=20)\n",
    "        axes[i].set_title(col)\n",
    "\n",
    "    # remove extra axes if any\n",
    "    for j in range(i + 1, n_rows * n_cols):\n",
    "        fig.delaxes(axes[j])\n",
    "\n",
    "    fig.suptitle(\"Histograms of Numeric Features\", y=1.02)\n",
    "    plt.tight_layout()\n",
    "    plt.show()\n"
   ]
  },
  {
   "cell_type": "code",
   "execution_count": 139,
   "id": "198b7ae7-a12b-401f-b945-99c5860693bf",
   "metadata": {},
   "outputs": [
    {
     "data": {
      "image/png": "[encoded data removed]",
      "text/plain": [
       "<Figure size 1000x600 with 1 Axes>"
      ]
     },
     "metadata": {},
     "output_type": "display_data"
    }
   ],
   "source": [
    "# Cell 3\n",
    "import matplotlib.pyplot as plt\n",
    "\n",
    "num_cols = df.select_dtypes(include=\"number\").columns.tolist()\n",
    "\n",
    "if not num_cols:\n",
    "    print(\"No numeric columns to plot.\")\n",
    "else:\n",
    "    plt.figure(figsize=(10, 6))\n",
    "    df[num_cols].boxplot(vert=False)\n",
    "    plt.title(\"Box Plots of Numeric Features\")\n",
    "    plt.xlabel(\"Value\")\n",
    "    plt.ylabel(\"Feature\")\n",
    "    plt.tight_layout()\n",
    "    plt.show()\n"
   ]
  },
  {
   "cell_type": "code",
   "execution_count": null,
   "id": "63383e47-5168-462b-a592-a3dbe16c3ad6",
   "metadata": {},
   "outputs": [],
   "source": []
  },
  {
   "cell_type": "code",
   "execution_count": 140,
   "id": "cacee457-46bd-4bce-a6a2-d8d9443b5a38",
   "metadata": {},
   "outputs": [
    {
     "name": "stdout",
     "output_type": "stream",
     "text": [
      "Negatives left: 0\n",
      "[   0.   491.8  983.6 1475.4 1967.2 2459.  2950.8 3442.6 3934.4 4426.2\n",
      " 4918. ]\n"
     ]
    },
    {
     "data": {
      "text/html": [
       "<div>\n",
       "<style scoped>\n",
       "    .dataframe tbody tr th:only-of-type {\n",
       "        vertical-align: middle;\n",
       "    }\n",
       "\n",
       "    .dataframe tbody tr th {\n",
       "        vertical-align: top;\n",
       "    }\n",
       "\n",
       "    .dataframe thead th {\n",
       "        text-align: right;\n",
       "    }\n",
       "</style>\n",
       "<table border=\"1\" class=\"dataframe\">\n",
       "  <thead>\n",
       "    <tr style=\"text-align: right;\">\n",
       "      <th></th>\n",
       "      <th>Campaign Call Duration</th>\n",
       "      <th>Campaign Call Duration_bin</th>\n",
       "      <th>Campaign Call Duration_bin_id</th>\n",
       "    </tr>\n",
       "  </thead>\n",
       "  <tbody>\n",
       "    <tr>\n",
       "      <th>0</th>\n",
       "      <td>261</td>\n",
       "      <td>(-0.001, 491.8]</td>\n",
       "      <td>0</td>\n",
       "    </tr>\n",
       "    <tr>\n",
       "      <th>1</th>\n",
       "      <td>149</td>\n",
       "      <td>(-0.001, 491.8]</td>\n",
       "      <td>0</td>\n",
       "    </tr>\n",
       "    <tr>\n",
       "      <th>2</th>\n",
       "      <td>226</td>\n",
       "      <td>(-0.001, 491.8]</td>\n",
       "      <td>0</td>\n",
       "    </tr>\n",
       "    <tr>\n",
       "      <th>3</th>\n",
       "      <td>151</td>\n",
       "      <td>(-0.001, 491.8]</td>\n",
       "      <td>0</td>\n",
       "    </tr>\n",
       "    <tr>\n",
       "      <th>4</th>\n",
       "      <td>307</td>\n",
       "      <td>(-0.001, 491.8]</td>\n",
       "      <td>0</td>\n",
       "    </tr>\n",
       "  </tbody>\n",
       "</table>\n",
       "</div>"
      ],
      "text/plain": [
       "   Campaign Call Duration Campaign Call Duration_bin  \\\n",
       "0                     261            (-0.001, 491.8]   \n",
       "1                     149            (-0.001, 491.8]   \n",
       "2                     226            (-0.001, 491.8]   \n",
       "3                     151            (-0.001, 491.8]   \n",
       "4                     307            (-0.001, 491.8]   \n",
       "\n",
       "  Campaign Call Duration_bin_id  \n",
       "0                             0  \n",
       "1                             0  \n",
       "2                             0  \n",
       "3                             0  \n",
       "4                             0  "
      ]
     },
     "execution_count": 140,
     "metadata": {},
     "output_type": "execute_result"
    }
   ],
   "source": [
    "import numpy as np\n",
    "import pandas as pd\n",
    "\n",
    "col = \"Campaign Call Duration\"\n",
    "\n",
    "# 1) Clean\n",
    "df[col] = pd.to_numeric(df[col], errors=\"coerce\")          # force numeric\n",
    "df[col] = df[col].abs()                                    # flip negatives\n",
    "median_val = df[col].median()\n",
    "df[col] = df[col].fillna(median_val)                       # impute NaN\n",
    "# (optional) also replace zeros if you consider them invalid\n",
    "# df.loc[df[col] == 0, col] = median_val\n",
    "\n",
    "# Sanity check\n",
    "print(\"Negatives left:\", (df[col] < 0).sum())\n",
    "\n",
    "# 2) Bin into 10 equal-width bins starting at 0\n",
    "edges = np.linspace(0, df[col].max(), 11)                  # 10 bins => 11 edges\n",
    "df[f\"{col}_bin\"] = pd.cut(df[col], bins=edges, include_lowest=True)\n",
    "df[f\"{col}_bin_id\"] = pd.cut(df[col], bins=edges,\n",
    "                             labels=range(10), include_lowest=True)\n",
    "\n",
    "print(edges)\n",
    "df[[col, f\"{col}_bin\", f\"{col}_bin_id\"]].head()\n"
   ]
  },
  {
   "cell_type": "code",
   "execution_count": 141,
   "id": "7ea30eff-e9d3-4eb2-ab76-a08a5e897817",
   "metadata": {
    "scrolled": true
   },
   "outputs": [],
   "source": [
    "col = \"Campaign Call Duration\"\n",
    "n_bins = 10\n",
    "\n",
    "# clean\n",
    "s = pd.to_numeric(df[col], errors=\"coerce\").abs()\n",
    "s = s.fillna(s.median())\n",
    "df[col] = s  # single, explicit assignment\n",
    "\n",
    "# bin\n",
    "edges = np.linspace(0, df[col].max(), n_bins + 1)\n",
    "edges[0] = 0.0\n",
    "df[f\"{col}_bin\"]    = pd.cut(df[col], bins=edges, include_lowest=True)\n",
    "df[f\"{col}_bin_id\"] = pd.cut(df[col], bins=edges, labels=range(n_bins), include_lowest=True)\n",
    "\n"
   ]
  },
  {
   "cell_type": "code",
   "execution_count": 142,
   "id": "7f0a1ab9-9670-4741-866b-641a984267fb",
   "metadata": {},
   "outputs": [
    {
     "name": "stdout",
     "output_type": "stream",
     "text": [
      "Any negatives left? False\n",
      "Bin edges: [   0.   491.8  983.6 1475.4 1967.2 2459.  2950.8 3442.6 3934.4 4426.2\n",
      " 4918. ]\n"
     ]
    }
   ],
   "source": [
    "print(\"Any negatives left?\", (df[col] < 0).any())\n",
    "print(\"Bin edges:\", edges)\n"
   ]
  },
  {
   "cell_type": "code",
   "execution_count": 143,
   "id": "e2446228-9db6-4022-b5dc-59b877ff778f",
   "metadata": {},
   "outputs": [
    {
     "name": "stdout",
     "output_type": "stream",
     "text": [
      "[   0.   491.8  983.6 1475.4 1967.2 2459.  2950.8 3442.6 3934.4 4426.2\n",
      " 4918. ]\n",
      "   Campaign Call Duration Campaign Call Duration_bin  \\\n",
      "0                     261            (-0.001, 491.8]   \n",
      "1                     149            (-0.001, 491.8]   \n",
      "2                     226            (-0.001, 491.8]   \n",
      "3                     151            (-0.001, 491.8]   \n",
      "4                     307            (-0.001, 491.8]   \n",
      "\n",
      "  Campaign Call Duration_bin_id  \n",
      "0                             0  \n",
      "1                             0  \n",
      "2                             0  \n",
      "3                             0  \n",
      "4                             0  \n"
     ]
    }
   ],
   "source": [
    "print(edges)\n",
    "print(df[[col, f\"{col}_bin\", f\"{col}_bin_id\"]].head())"
   ]
  },
  {
   "cell_type": "code",
   "execution_count": null,
   "id": "e0f86e84-548c-4047-ad34-a5bc51071228",
   "metadata": {},
   "outputs": [],
   "source": [
    "\n"
   ]
  },
  {
   "cell_type": "code",
   "execution_count": null,
   "id": "62d8fcc7-77c5-4a07-a93b-420f2ebd0436",
   "metadata": {},
   "outputs": [],
   "source": []
  }
 ],
 "metadata": {
  "kernelspec": {
   "display_name": "Python 3 (ipykernel)",
   "language": "python",
   "name": "python3"
  },
  "language_info": {
   "codemirror_mode": {
    "name": "ipython",
    "version": 3
   },
   "file_extension": ".py",
   "mimetype": "text/x-python",
   "name": "python",
   "nbconvert_exporter": "python",
   "pygments_lexer": "ipython3",
   "version": "3.12.3"
  }
 },
 "nbformat": 4,
 "nbformat_minor": 5
}
